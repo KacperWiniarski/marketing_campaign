{
 "cells": [
  {
   "cell_type": "markdown",
   "id": "1cd9134a",
   "metadata": {},
   "source": [
    "# Zaimportuj pakiety"
   ]
  },
  {
   "cell_type": "code",
   "execution_count": 1,
   "id": "9dfba38e",
   "metadata": {},
   "outputs": [],
   "source": [
    "import pandas as pd\n",
    "import numpy as np\n",
    "import matplotlib.pyplot as plt\n",
    "import seaborn as sns\n",
    "from sklearn.preprocessing import KBinsDiscretizer\n",
    "from sklearn.model_selection import train_test_split\n",
    "from imblearn.over_sampling import RandomOverSampler\n",
    "from imblearn.over_sampling import SMOTE\n",
    "from sklearn.linear_model import LogisticRegression\n",
    "from sklearn.metrics import classification_report\n",
    "from sklearn.metrics import confusion_matrix\n",
    "from sklearn.svm import SVC\n",
    "from sklearn.neighbors import KNeighborsClassifier\n",
    "from sklearn.naive_bayes import MultinomialNB, GaussianNB\n",
    "from sklearn.tree import DecisionTreeClassifier\n",
    "from sklearn.ensemble import BaggingClassifier\n",
    "from sklearn.svm import SVC\n",
    "from sklearn.ensemble import AdaBoostClassifier\n",
    "from sklearn.ensemble import GradientBoostingClassifier\n",
    "from sklearn.metrics import roc_auc_score, roc_curve\n",
    "from sklearn.model_selection import KFold\n",
    "from sklearn.model_selection import cross_val_score\n",
    "from sklearn.model_selection import GridSearchCV\n",
    "import joblib"
   ]
  },
  {
   "cell_type": "code",
   "execution_count": 2,
   "id": "c246d7ef",
   "metadata": {},
   "outputs": [],
   "source": [
    "pd.options.display.max_columns = None"
   ]
  },
  {
   "cell_type": "markdown",
   "id": "5596ce71",
   "metadata": {},
   "source": [
    "# Wczytaj zbiór marketing_campaign"
   ]
  },
  {
   "cell_type": "code",
   "execution_count": 3,
   "id": "dcbf1548",
   "metadata": {},
   "outputs": [],
   "source": [
    "df = pd.read_csv(r\"C:\\Users\\swini\\Desktop\\Python\\marketing_campaign\\marketing_campaign.csv\", sep=\"\\t\", index_col='ID')"
   ]
  },
  {
   "cell_type": "code",
   "execution_count": 4,
   "id": "738ff4ca",
   "metadata": {},
   "outputs": [
    {
     "data": {
      "text/html": [
       "<div>\n",
       "<style scoped>\n",
       "    .dataframe tbody tr th:only-of-type {\n",
       "        vertical-align: middle;\n",
       "    }\n",
       "\n",
       "    .dataframe tbody tr th {\n",
       "        vertical-align: top;\n",
       "    }\n",
       "\n",
       "    .dataframe thead th {\n",
       "        text-align: right;\n",
       "    }\n",
       "</style>\n",
       "<table border=\"1\" class=\"dataframe\">\n",
       "  <thead>\n",
       "    <tr style=\"text-align: right;\">\n",
       "      <th></th>\n",
       "      <th>Year_Birth</th>\n",
       "      <th>Education</th>\n",
       "      <th>Marital_Status</th>\n",
       "      <th>Income</th>\n",
       "      <th>Kidhome</th>\n",
       "      <th>Teenhome</th>\n",
       "      <th>Dt_Customer</th>\n",
       "      <th>Recency</th>\n",
       "      <th>MntWines</th>\n",
       "      <th>MntFruits</th>\n",
       "      <th>MntMeatProducts</th>\n",
       "      <th>MntFishProducts</th>\n",
       "      <th>MntSweetProducts</th>\n",
       "      <th>MntGoldProds</th>\n",
       "      <th>NumDealsPurchases</th>\n",
       "      <th>NumWebPurchases</th>\n",
       "      <th>NumCatalogPurchases</th>\n",
       "      <th>NumStorePurchases</th>\n",
       "      <th>NumWebVisitsMonth</th>\n",
       "      <th>AcceptedCmp3</th>\n",
       "      <th>AcceptedCmp4</th>\n",
       "      <th>AcceptedCmp5</th>\n",
       "      <th>AcceptedCmp1</th>\n",
       "      <th>AcceptedCmp2</th>\n",
       "      <th>Complain</th>\n",
       "      <th>Z_CostContact</th>\n",
       "      <th>Z_Revenue</th>\n",
       "      <th>Response</th>\n",
       "    </tr>\n",
       "    <tr>\n",
       "      <th>ID</th>\n",
       "      <th></th>\n",
       "      <th></th>\n",
       "      <th></th>\n",
       "      <th></th>\n",
       "      <th></th>\n",
       "      <th></th>\n",
       "      <th></th>\n",
       "      <th></th>\n",
       "      <th></th>\n",
       "      <th></th>\n",
       "      <th></th>\n",
       "      <th></th>\n",
       "      <th></th>\n",
       "      <th></th>\n",
       "      <th></th>\n",
       "      <th></th>\n",
       "      <th></th>\n",
       "      <th></th>\n",
       "      <th></th>\n",
       "      <th></th>\n",
       "      <th></th>\n",
       "      <th></th>\n",
       "      <th></th>\n",
       "      <th></th>\n",
       "      <th></th>\n",
       "      <th></th>\n",
       "      <th></th>\n",
       "      <th></th>\n",
       "    </tr>\n",
       "  </thead>\n",
       "  <tbody>\n",
       "    <tr>\n",
       "      <th>5524</th>\n",
       "      <td>1957</td>\n",
       "      <td>Graduation</td>\n",
       "      <td>Single</td>\n",
       "      <td>58138.0</td>\n",
       "      <td>0</td>\n",
       "      <td>0</td>\n",
       "      <td>04-09-2012</td>\n",
       "      <td>58</td>\n",
       "      <td>635</td>\n",
       "      <td>88</td>\n",
       "      <td>546</td>\n",
       "      <td>172</td>\n",
       "      <td>88</td>\n",
       "      <td>88</td>\n",
       "      <td>3</td>\n",
       "      <td>8</td>\n",
       "      <td>10</td>\n",
       "      <td>4</td>\n",
       "      <td>7</td>\n",
       "      <td>0</td>\n",
       "      <td>0</td>\n",
       "      <td>0</td>\n",
       "      <td>0</td>\n",
       "      <td>0</td>\n",
       "      <td>0</td>\n",
       "      <td>3</td>\n",
       "      <td>11</td>\n",
       "      <td>1</td>\n",
       "    </tr>\n",
       "    <tr>\n",
       "      <th>2174</th>\n",
       "      <td>1954</td>\n",
       "      <td>Graduation</td>\n",
       "      <td>Single</td>\n",
       "      <td>46344.0</td>\n",
       "      <td>1</td>\n",
       "      <td>1</td>\n",
       "      <td>08-03-2014</td>\n",
       "      <td>38</td>\n",
       "      <td>11</td>\n",
       "      <td>1</td>\n",
       "      <td>6</td>\n",
       "      <td>2</td>\n",
       "      <td>1</td>\n",
       "      <td>6</td>\n",
       "      <td>2</td>\n",
       "      <td>1</td>\n",
       "      <td>1</td>\n",
       "      <td>2</td>\n",
       "      <td>5</td>\n",
       "      <td>0</td>\n",
       "      <td>0</td>\n",
       "      <td>0</td>\n",
       "      <td>0</td>\n",
       "      <td>0</td>\n",
       "      <td>0</td>\n",
       "      <td>3</td>\n",
       "      <td>11</td>\n",
       "      <td>0</td>\n",
       "    </tr>\n",
       "    <tr>\n",
       "      <th>4141</th>\n",
       "      <td>1965</td>\n",
       "      <td>Graduation</td>\n",
       "      <td>Together</td>\n",
       "      <td>71613.0</td>\n",
       "      <td>0</td>\n",
       "      <td>0</td>\n",
       "      <td>21-08-2013</td>\n",
       "      <td>26</td>\n",
       "      <td>426</td>\n",
       "      <td>49</td>\n",
       "      <td>127</td>\n",
       "      <td>111</td>\n",
       "      <td>21</td>\n",
       "      <td>42</td>\n",
       "      <td>1</td>\n",
       "      <td>8</td>\n",
       "      <td>2</td>\n",
       "      <td>10</td>\n",
       "      <td>4</td>\n",
       "      <td>0</td>\n",
       "      <td>0</td>\n",
       "      <td>0</td>\n",
       "      <td>0</td>\n",
       "      <td>0</td>\n",
       "      <td>0</td>\n",
       "      <td>3</td>\n",
       "      <td>11</td>\n",
       "      <td>0</td>\n",
       "    </tr>\n",
       "    <tr>\n",
       "      <th>6182</th>\n",
       "      <td>1984</td>\n",
       "      <td>Graduation</td>\n",
       "      <td>Together</td>\n",
       "      <td>26646.0</td>\n",
       "      <td>1</td>\n",
       "      <td>0</td>\n",
       "      <td>10-02-2014</td>\n",
       "      <td>26</td>\n",
       "      <td>11</td>\n",
       "      <td>4</td>\n",
       "      <td>20</td>\n",
       "      <td>10</td>\n",
       "      <td>3</td>\n",
       "      <td>5</td>\n",
       "      <td>2</td>\n",
       "      <td>2</td>\n",
       "      <td>0</td>\n",
       "      <td>4</td>\n",
       "      <td>6</td>\n",
       "      <td>0</td>\n",
       "      <td>0</td>\n",
       "      <td>0</td>\n",
       "      <td>0</td>\n",
       "      <td>0</td>\n",
       "      <td>0</td>\n",
       "      <td>3</td>\n",
       "      <td>11</td>\n",
       "      <td>0</td>\n",
       "    </tr>\n",
       "    <tr>\n",
       "      <th>5324</th>\n",
       "      <td>1981</td>\n",
       "      <td>PhD</td>\n",
       "      <td>Married</td>\n",
       "      <td>58293.0</td>\n",
       "      <td>1</td>\n",
       "      <td>0</td>\n",
       "      <td>19-01-2014</td>\n",
       "      <td>94</td>\n",
       "      <td>173</td>\n",
       "      <td>43</td>\n",
       "      <td>118</td>\n",
       "      <td>46</td>\n",
       "      <td>27</td>\n",
       "      <td>15</td>\n",
       "      <td>5</td>\n",
       "      <td>5</td>\n",
       "      <td>3</td>\n",
       "      <td>6</td>\n",
       "      <td>5</td>\n",
       "      <td>0</td>\n",
       "      <td>0</td>\n",
       "      <td>0</td>\n",
       "      <td>0</td>\n",
       "      <td>0</td>\n",
       "      <td>0</td>\n",
       "      <td>3</td>\n",
       "      <td>11</td>\n",
       "      <td>0</td>\n",
       "    </tr>\n",
       "  </tbody>\n",
       "</table>\n",
       "</div>"
      ],
      "text/plain": [
       "      Year_Birth   Education Marital_Status   Income  Kidhome  Teenhome  \\\n",
       "ID                                                                        \n",
       "5524        1957  Graduation         Single  58138.0        0         0   \n",
       "2174        1954  Graduation         Single  46344.0        1         1   \n",
       "4141        1965  Graduation       Together  71613.0        0         0   \n",
       "6182        1984  Graduation       Together  26646.0        1         0   \n",
       "5324        1981         PhD        Married  58293.0        1         0   \n",
       "\n",
       "     Dt_Customer  Recency  MntWines  MntFruits  MntMeatProducts  \\\n",
       "ID                                                                \n",
       "5524  04-09-2012       58       635         88              546   \n",
       "2174  08-03-2014       38        11          1                6   \n",
       "4141  21-08-2013       26       426         49              127   \n",
       "6182  10-02-2014       26        11          4               20   \n",
       "5324  19-01-2014       94       173         43              118   \n",
       "\n",
       "      MntFishProducts  MntSweetProducts  MntGoldProds  NumDealsPurchases  \\\n",
       "ID                                                                         \n",
       "5524              172                88            88                  3   \n",
       "2174                2                 1             6                  2   \n",
       "4141              111                21            42                  1   \n",
       "6182               10                 3             5                  2   \n",
       "5324               46                27            15                  5   \n",
       "\n",
       "      NumWebPurchases  NumCatalogPurchases  NumStorePurchases  \\\n",
       "ID                                                              \n",
       "5524                8                   10                  4   \n",
       "2174                1                    1                  2   \n",
       "4141                8                    2                 10   \n",
       "6182                2                    0                  4   \n",
       "5324                5                    3                  6   \n",
       "\n",
       "      NumWebVisitsMonth  AcceptedCmp3  AcceptedCmp4  AcceptedCmp5  \\\n",
       "ID                                                                  \n",
       "5524                  7             0             0             0   \n",
       "2174                  5             0             0             0   \n",
       "4141                  4             0             0             0   \n",
       "6182                  6             0             0             0   \n",
       "5324                  5             0             0             0   \n",
       "\n",
       "      AcceptedCmp1  AcceptedCmp2  Complain  Z_CostContact  Z_Revenue  Response  \n",
       "ID                                                                              \n",
       "5524             0             0         0              3         11         1  \n",
       "2174             0             0         0              3         11         0  \n",
       "4141             0             0         0              3         11         0  \n",
       "6182             0             0         0              3         11         0  \n",
       "5324             0             0         0              3         11         0  "
      ]
     },
     "execution_count": 4,
     "metadata": {},
     "output_type": "execute_result"
    }
   ],
   "source": [
    "df.head()"
   ]
  },
  {
   "cell_type": "markdown",
   "id": "0ec89650",
   "metadata": {},
   "source": [
    "# Wyświetl wstępne informacje o zbiorze, statystyki itp"
   ]
  },
  {
   "cell_type": "code",
   "execution_count": 5,
   "id": "da0fce3d",
   "metadata": {},
   "outputs": [
    {
     "data": {
      "text/plain": [
       "True"
      ]
     },
     "execution_count": 5,
     "metadata": {},
     "output_type": "execute_result"
    }
   ],
   "source": [
    "df.duplicated().any()"
   ]
  },
  {
   "cell_type": "code",
   "execution_count": 6,
   "id": "0568f6ee",
   "metadata": {},
   "outputs": [],
   "source": [
    "df.drop_duplicates(inplace=True)"
   ]
  },
  {
   "cell_type": "code",
   "execution_count": 7,
   "id": "02cd3782",
   "metadata": {},
   "outputs": [
    {
     "name": "stdout",
     "output_type": "stream",
     "text": [
      "<class 'pandas.core.frame.DataFrame'>\n",
      "Int64Index: 2058 entries, 5524 to 9405\n",
      "Data columns (total 28 columns):\n",
      " #   Column               Non-Null Count  Dtype  \n",
      "---  ------               --------------  -----  \n",
      " 0   Year_Birth           2058 non-null   int64  \n",
      " 1   Education            2058 non-null   object \n",
      " 2   Marital_Status       2058 non-null   object \n",
      " 3   Income               2034 non-null   float64\n",
      " 4   Kidhome              2058 non-null   int64  \n",
      " 5   Teenhome             2058 non-null   int64  \n",
      " 6   Dt_Customer          2058 non-null   object \n",
      " 7   Recency              2058 non-null   int64  \n",
      " 8   MntWines             2058 non-null   int64  \n",
      " 9   MntFruits            2058 non-null   int64  \n",
      " 10  MntMeatProducts      2058 non-null   int64  \n",
      " 11  MntFishProducts      2058 non-null   int64  \n",
      " 12  MntSweetProducts     2058 non-null   int64  \n",
      " 13  MntGoldProds         2058 non-null   int64  \n",
      " 14  NumDealsPurchases    2058 non-null   int64  \n",
      " 15  NumWebPurchases      2058 non-null   int64  \n",
      " 16  NumCatalogPurchases  2058 non-null   int64  \n",
      " 17  NumStorePurchases    2058 non-null   int64  \n",
      " 18  NumWebVisitsMonth    2058 non-null   int64  \n",
      " 19  AcceptedCmp3         2058 non-null   int64  \n",
      " 20  AcceptedCmp4         2058 non-null   int64  \n",
      " 21  AcceptedCmp5         2058 non-null   int64  \n",
      " 22  AcceptedCmp1         2058 non-null   int64  \n",
      " 23  AcceptedCmp2         2058 non-null   int64  \n",
      " 24  Complain             2058 non-null   int64  \n",
      " 25  Z_CostContact        2058 non-null   int64  \n",
      " 26  Z_Revenue            2058 non-null   int64  \n",
      " 27  Response             2058 non-null   int64  \n",
      "dtypes: float64(1), int64(24), object(3)\n",
      "memory usage: 466.3+ KB\n"
     ]
    }
   ],
   "source": [
    "df.info()"
   ]
  },
  {
   "cell_type": "code",
   "execution_count": 8,
   "id": "2a3d3260",
   "metadata": {},
   "outputs": [
    {
     "data": {
      "text/html": [
       "<div>\n",
       "<style scoped>\n",
       "    .dataframe tbody tr th:only-of-type {\n",
       "        vertical-align: middle;\n",
       "    }\n",
       "\n",
       "    .dataframe tbody tr th {\n",
       "        vertical-align: top;\n",
       "    }\n",
       "\n",
       "    .dataframe thead th {\n",
       "        text-align: right;\n",
       "    }\n",
       "</style>\n",
       "<table border=\"1\" class=\"dataframe\">\n",
       "  <thead>\n",
       "    <tr style=\"text-align: right;\">\n",
       "      <th></th>\n",
       "      <th>Year_Birth</th>\n",
       "      <th>Income</th>\n",
       "      <th>Kidhome</th>\n",
       "      <th>Teenhome</th>\n",
       "      <th>Recency</th>\n",
       "      <th>MntWines</th>\n",
       "      <th>MntFruits</th>\n",
       "      <th>MntMeatProducts</th>\n",
       "      <th>MntFishProducts</th>\n",
       "      <th>MntSweetProducts</th>\n",
       "      <th>MntGoldProds</th>\n",
       "      <th>NumDealsPurchases</th>\n",
       "      <th>NumWebPurchases</th>\n",
       "      <th>NumCatalogPurchases</th>\n",
       "      <th>NumStorePurchases</th>\n",
       "      <th>NumWebVisitsMonth</th>\n",
       "      <th>AcceptedCmp3</th>\n",
       "      <th>AcceptedCmp4</th>\n",
       "      <th>AcceptedCmp5</th>\n",
       "      <th>AcceptedCmp1</th>\n",
       "      <th>AcceptedCmp2</th>\n",
       "      <th>Complain</th>\n",
       "      <th>Z_CostContact</th>\n",
       "      <th>Z_Revenue</th>\n",
       "      <th>Response</th>\n",
       "    </tr>\n",
       "  </thead>\n",
       "  <tbody>\n",
       "    <tr>\n",
       "      <th>count</th>\n",
       "      <td>2058.000000</td>\n",
       "      <td>2034.000000</td>\n",
       "      <td>2058.000000</td>\n",
       "      <td>2058.000000</td>\n",
       "      <td>2058.000000</td>\n",
       "      <td>2058.000000</td>\n",
       "      <td>2058.000000</td>\n",
       "      <td>2058.000000</td>\n",
       "      <td>2058.000000</td>\n",
       "      <td>2058.000000</td>\n",
       "      <td>2058.000000</td>\n",
       "      <td>2058.000000</td>\n",
       "      <td>2058.000000</td>\n",
       "      <td>2058.000000</td>\n",
       "      <td>2058.000000</td>\n",
       "      <td>2058.000000</td>\n",
       "      <td>2058.000000</td>\n",
       "      <td>2058.000000</td>\n",
       "      <td>2058.000000</td>\n",
       "      <td>2058.000000</td>\n",
       "      <td>2058.000000</td>\n",
       "      <td>2058.000000</td>\n",
       "      <td>2058.0</td>\n",
       "      <td>2058.0</td>\n",
       "      <td>2058.000000</td>\n",
       "    </tr>\n",
       "    <tr>\n",
       "      <th>mean</th>\n",
       "      <td>1968.787172</td>\n",
       "      <td>52357.791544</td>\n",
       "      <td>0.445578</td>\n",
       "      <td>0.509232</td>\n",
       "      <td>48.951895</td>\n",
       "      <td>303.921769</td>\n",
       "      <td>26.234694</td>\n",
       "      <td>167.704568</td>\n",
       "      <td>37.329446</td>\n",
       "      <td>27.176871</td>\n",
       "      <td>43.873178</td>\n",
       "      <td>2.339164</td>\n",
       "      <td>4.098639</td>\n",
       "      <td>2.660836</td>\n",
       "      <td>5.770651</td>\n",
       "      <td>5.319728</td>\n",
       "      <td>0.073372</td>\n",
       "      <td>0.076774</td>\n",
       "      <td>0.071914</td>\n",
       "      <td>0.065598</td>\n",
       "      <td>0.012634</td>\n",
       "      <td>0.009718</td>\n",
       "      <td>3.0</td>\n",
       "      <td>11.0</td>\n",
       "      <td>0.152089</td>\n",
       "    </tr>\n",
       "    <tr>\n",
       "      <th>std</th>\n",
       "      <td>11.973898</td>\n",
       "      <td>25526.956988</td>\n",
       "      <td>0.537556</td>\n",
       "      <td>0.546489</td>\n",
       "      <td>28.999189</td>\n",
       "      <td>336.528217</td>\n",
       "      <td>39.750728</td>\n",
       "      <td>228.303238</td>\n",
       "      <td>54.657215</td>\n",
       "      <td>41.714004</td>\n",
       "      <td>52.126598</td>\n",
       "      <td>1.942947</td>\n",
       "      <td>2.797577</td>\n",
       "      <td>2.933824</td>\n",
       "      <td>3.239113</td>\n",
       "      <td>2.439907</td>\n",
       "      <td>0.260810</td>\n",
       "      <td>0.266297</td>\n",
       "      <td>0.258409</td>\n",
       "      <td>0.247638</td>\n",
       "      <td>0.111714</td>\n",
       "      <td>0.098124</td>\n",
       "      <td>0.0</td>\n",
       "      <td>0.0</td>\n",
       "      <td>0.359195</td>\n",
       "    </tr>\n",
       "    <tr>\n",
       "      <th>min</th>\n",
       "      <td>1893.000000</td>\n",
       "      <td>1730.000000</td>\n",
       "      <td>0.000000</td>\n",
       "      <td>0.000000</td>\n",
       "      <td>0.000000</td>\n",
       "      <td>0.000000</td>\n",
       "      <td>0.000000</td>\n",
       "      <td>0.000000</td>\n",
       "      <td>0.000000</td>\n",
       "      <td>0.000000</td>\n",
       "      <td>0.000000</td>\n",
       "      <td>0.000000</td>\n",
       "      <td>0.000000</td>\n",
       "      <td>0.000000</td>\n",
       "      <td>0.000000</td>\n",
       "      <td>0.000000</td>\n",
       "      <td>0.000000</td>\n",
       "      <td>0.000000</td>\n",
       "      <td>0.000000</td>\n",
       "      <td>0.000000</td>\n",
       "      <td>0.000000</td>\n",
       "      <td>0.000000</td>\n",
       "      <td>3.0</td>\n",
       "      <td>11.0</td>\n",
       "      <td>0.000000</td>\n",
       "    </tr>\n",
       "    <tr>\n",
       "      <th>25%</th>\n",
       "      <td>1959.000000</td>\n",
       "      <td>35528.250000</td>\n",
       "      <td>0.000000</td>\n",
       "      <td>0.000000</td>\n",
       "      <td>24.000000</td>\n",
       "      <td>23.000000</td>\n",
       "      <td>1.000000</td>\n",
       "      <td>16.000000</td>\n",
       "      <td>3.000000</td>\n",
       "      <td>1.000000</td>\n",
       "      <td>9.000000</td>\n",
       "      <td>1.000000</td>\n",
       "      <td>2.000000</td>\n",
       "      <td>0.000000</td>\n",
       "      <td>3.000000</td>\n",
       "      <td>3.000000</td>\n",
       "      <td>0.000000</td>\n",
       "      <td>0.000000</td>\n",
       "      <td>0.000000</td>\n",
       "      <td>0.000000</td>\n",
       "      <td>0.000000</td>\n",
       "      <td>0.000000</td>\n",
       "      <td>3.0</td>\n",
       "      <td>11.0</td>\n",
       "      <td>0.000000</td>\n",
       "    </tr>\n",
       "    <tr>\n",
       "      <th>50%</th>\n",
       "      <td>1970.000000</td>\n",
       "      <td>51533.000000</td>\n",
       "      <td>0.000000</td>\n",
       "      <td>0.000000</td>\n",
       "      <td>49.000000</td>\n",
       "      <td>174.000000</td>\n",
       "      <td>8.000000</td>\n",
       "      <td>67.000000</td>\n",
       "      <td>12.000000</td>\n",
       "      <td>8.000000</td>\n",
       "      <td>24.000000</td>\n",
       "      <td>2.000000</td>\n",
       "      <td>4.000000</td>\n",
       "      <td>2.000000</td>\n",
       "      <td>5.000000</td>\n",
       "      <td>6.000000</td>\n",
       "      <td>0.000000</td>\n",
       "      <td>0.000000</td>\n",
       "      <td>0.000000</td>\n",
       "      <td>0.000000</td>\n",
       "      <td>0.000000</td>\n",
       "      <td>0.000000</td>\n",
       "      <td>3.0</td>\n",
       "      <td>11.0</td>\n",
       "      <td>0.000000</td>\n",
       "    </tr>\n",
       "    <tr>\n",
       "      <th>75%</th>\n",
       "      <td>1977.000000</td>\n",
       "      <td>68480.750000</td>\n",
       "      <td>1.000000</td>\n",
       "      <td>1.000000</td>\n",
       "      <td>74.000000</td>\n",
       "      <td>504.000000</td>\n",
       "      <td>33.000000</td>\n",
       "      <td>229.500000</td>\n",
       "      <td>50.000000</td>\n",
       "      <td>33.750000</td>\n",
       "      <td>56.000000</td>\n",
       "      <td>3.000000</td>\n",
       "      <td>6.000000</td>\n",
       "      <td>4.000000</td>\n",
       "      <td>8.000000</td>\n",
       "      <td>7.000000</td>\n",
       "      <td>0.000000</td>\n",
       "      <td>0.000000</td>\n",
       "      <td>0.000000</td>\n",
       "      <td>0.000000</td>\n",
       "      <td>0.000000</td>\n",
       "      <td>0.000000</td>\n",
       "      <td>3.0</td>\n",
       "      <td>11.0</td>\n",
       "      <td>0.000000</td>\n",
       "    </tr>\n",
       "    <tr>\n",
       "      <th>max</th>\n",
       "      <td>1996.000000</td>\n",
       "      <td>666666.000000</td>\n",
       "      <td>2.000000</td>\n",
       "      <td>2.000000</td>\n",
       "      <td>99.000000</td>\n",
       "      <td>1493.000000</td>\n",
       "      <td>199.000000</td>\n",
       "      <td>1725.000000</td>\n",
       "      <td>259.000000</td>\n",
       "      <td>263.000000</td>\n",
       "      <td>362.000000</td>\n",
       "      <td>15.000000</td>\n",
       "      <td>27.000000</td>\n",
       "      <td>28.000000</td>\n",
       "      <td>13.000000</td>\n",
       "      <td>20.000000</td>\n",
       "      <td>1.000000</td>\n",
       "      <td>1.000000</td>\n",
       "      <td>1.000000</td>\n",
       "      <td>1.000000</td>\n",
       "      <td>1.000000</td>\n",
       "      <td>1.000000</td>\n",
       "      <td>3.0</td>\n",
       "      <td>11.0</td>\n",
       "      <td>1.000000</td>\n",
       "    </tr>\n",
       "  </tbody>\n",
       "</table>\n",
       "</div>"
      ],
      "text/plain": [
       "        Year_Birth         Income      Kidhome     Teenhome      Recency  \\\n",
       "count  2058.000000    2034.000000  2058.000000  2058.000000  2058.000000   \n",
       "mean   1968.787172   52357.791544     0.445578     0.509232    48.951895   \n",
       "std      11.973898   25526.956988     0.537556     0.546489    28.999189   \n",
       "min    1893.000000    1730.000000     0.000000     0.000000     0.000000   \n",
       "25%    1959.000000   35528.250000     0.000000     0.000000    24.000000   \n",
       "50%    1970.000000   51533.000000     0.000000     0.000000    49.000000   \n",
       "75%    1977.000000   68480.750000     1.000000     1.000000    74.000000   \n",
       "max    1996.000000  666666.000000     2.000000     2.000000    99.000000   \n",
       "\n",
       "          MntWines    MntFruits  MntMeatProducts  MntFishProducts  \\\n",
       "count  2058.000000  2058.000000      2058.000000      2058.000000   \n",
       "mean    303.921769    26.234694       167.704568        37.329446   \n",
       "std     336.528217    39.750728       228.303238        54.657215   \n",
       "min       0.000000     0.000000         0.000000         0.000000   \n",
       "25%      23.000000     1.000000        16.000000         3.000000   \n",
       "50%     174.000000     8.000000        67.000000        12.000000   \n",
       "75%     504.000000    33.000000       229.500000        50.000000   \n",
       "max    1493.000000   199.000000      1725.000000       259.000000   \n",
       "\n",
       "       MntSweetProducts  MntGoldProds  NumDealsPurchases  NumWebPurchases  \\\n",
       "count       2058.000000   2058.000000        2058.000000      2058.000000   \n",
       "mean          27.176871     43.873178           2.339164         4.098639   \n",
       "std           41.714004     52.126598           1.942947         2.797577   \n",
       "min            0.000000      0.000000           0.000000         0.000000   \n",
       "25%            1.000000      9.000000           1.000000         2.000000   \n",
       "50%            8.000000     24.000000           2.000000         4.000000   \n",
       "75%           33.750000     56.000000           3.000000         6.000000   \n",
       "max          263.000000    362.000000          15.000000        27.000000   \n",
       "\n",
       "       NumCatalogPurchases  NumStorePurchases  NumWebVisitsMonth  \\\n",
       "count          2058.000000        2058.000000        2058.000000   \n",
       "mean              2.660836           5.770651           5.319728   \n",
       "std               2.933824           3.239113           2.439907   \n",
       "min               0.000000           0.000000           0.000000   \n",
       "25%               0.000000           3.000000           3.000000   \n",
       "50%               2.000000           5.000000           6.000000   \n",
       "75%               4.000000           8.000000           7.000000   \n",
       "max              28.000000          13.000000          20.000000   \n",
       "\n",
       "       AcceptedCmp3  AcceptedCmp4  AcceptedCmp5  AcceptedCmp1  AcceptedCmp2  \\\n",
       "count   2058.000000   2058.000000   2058.000000   2058.000000   2058.000000   \n",
       "mean       0.073372      0.076774      0.071914      0.065598      0.012634   \n",
       "std        0.260810      0.266297      0.258409      0.247638      0.111714   \n",
       "min        0.000000      0.000000      0.000000      0.000000      0.000000   \n",
       "25%        0.000000      0.000000      0.000000      0.000000      0.000000   \n",
       "50%        0.000000      0.000000      0.000000      0.000000      0.000000   \n",
       "75%        0.000000      0.000000      0.000000      0.000000      0.000000   \n",
       "max        1.000000      1.000000      1.000000      1.000000      1.000000   \n",
       "\n",
       "          Complain  Z_CostContact  Z_Revenue     Response  \n",
       "count  2058.000000         2058.0     2058.0  2058.000000  \n",
       "mean      0.009718            3.0       11.0     0.152089  \n",
       "std       0.098124            0.0        0.0     0.359195  \n",
       "min       0.000000            3.0       11.0     0.000000  \n",
       "25%       0.000000            3.0       11.0     0.000000  \n",
       "50%       0.000000            3.0       11.0     0.000000  \n",
       "75%       0.000000            3.0       11.0     0.000000  \n",
       "max       1.000000            3.0       11.0     1.000000  "
      ]
     },
     "execution_count": 8,
     "metadata": {},
     "output_type": "execute_result"
    }
   ],
   "source": [
    "df.describe()"
   ]
  },
  {
   "cell_type": "markdown",
   "id": "0c8511b6",
   "metadata": {},
   "source": [
    "# Analiza zbioru danych (wyliczenia, wykresy itp):"
   ]
  },
  {
   "cell_type": "markdown",
   "id": "58513bb0",
   "metadata": {},
   "source": [
    "## Sprawdź w jakich latach urodzili się klienci"
   ]
  },
  {
   "cell_type": "code",
   "execution_count": 9,
   "id": "5ccd5d64",
   "metadata": {},
   "outputs": [
    {
     "data": {
      "text/plain": [
       "Text(1920, 140, ' ')"
      ]
     },
     "execution_count": 9,
     "metadata": {},
     "output_type": "execute_result"
    },
    {
     "data": {
      "image/png": "[encoded data removed]",
      "text/plain": [
       "<Figure size 640x480 with 1 Axes>"
      ]
     },
     "metadata": {},
     "output_type": "display_data"
    }
   ],
   "source": [
    "fig, ax = plt.subplots()\n",
    "sns.histplot(df['Year_Birth'], kde=False)\n",
    "\n",
    "plt.title('Rozkład lat urodzin klientów')\n",
    "plt.xlabel('Rok urodzenia')\n",
    "plt.ylabel('Ilość wystąpień')\n",
    "\n",
    "ax.annotate('Outliers', \n",
    "            xy=(1895, 0),\n",
    "            xytext=(1920, 140),\n",
    "            va='center',\n",
    "            ha='center',\n",
    "            arrowprops={'arrowstyle': '->', 'color': 'red'})\n",
    "\n",
    "ax.annotate(' ', \n",
    "            xy=(1900, 0),\n",
    "            xytext=(1920, 140),\n",
    "            va='center',\n",
    "            ha='center',\n",
    "            arrowprops={'arrowstyle': '->', 'color': 'red'})"
   ]
  },
  {
   "cell_type": "code",
   "execution_count": 10,
   "id": "49874892",
   "metadata": {},
   "outputs": [
    {
     "data": {
      "text/html": [
       "<div>\n",
       "<style scoped>\n",
       "    .dataframe tbody tr th:only-of-type {\n",
       "        vertical-align: middle;\n",
       "    }\n",
       "\n",
       "    .dataframe tbody tr th {\n",
       "        vertical-align: top;\n",
       "    }\n",
       "\n",
       "    .dataframe thead th {\n",
       "        text-align: right;\n",
       "    }\n",
       "</style>\n",
       "<table border=\"1\" class=\"dataframe\">\n",
       "  <thead>\n",
       "    <tr style=\"text-align: right;\">\n",
       "      <th></th>\n",
       "      <th>Year_Birth</th>\n",
       "      <th>Education</th>\n",
       "      <th>Marital_Status</th>\n",
       "      <th>Income</th>\n",
       "      <th>Kidhome</th>\n",
       "      <th>Teenhome</th>\n",
       "      <th>Dt_Customer</th>\n",
       "      <th>Recency</th>\n",
       "      <th>MntWines</th>\n",
       "      <th>MntFruits</th>\n",
       "      <th>MntMeatProducts</th>\n",
       "      <th>MntFishProducts</th>\n",
       "      <th>MntSweetProducts</th>\n",
       "      <th>MntGoldProds</th>\n",
       "      <th>NumDealsPurchases</th>\n",
       "      <th>NumWebPurchases</th>\n",
       "      <th>NumCatalogPurchases</th>\n",
       "      <th>NumStorePurchases</th>\n",
       "      <th>NumWebVisitsMonth</th>\n",
       "      <th>AcceptedCmp3</th>\n",
       "      <th>AcceptedCmp4</th>\n",
       "      <th>AcceptedCmp5</th>\n",
       "      <th>AcceptedCmp1</th>\n",
       "      <th>AcceptedCmp2</th>\n",
       "      <th>Complain</th>\n",
       "      <th>Z_CostContact</th>\n",
       "      <th>Z_Revenue</th>\n",
       "      <th>Response</th>\n",
       "    </tr>\n",
       "    <tr>\n",
       "      <th>ID</th>\n",
       "      <th></th>\n",
       "      <th></th>\n",
       "      <th></th>\n",
       "      <th></th>\n",
       "      <th></th>\n",
       "      <th></th>\n",
       "      <th></th>\n",
       "      <th></th>\n",
       "      <th></th>\n",
       "      <th></th>\n",
       "      <th></th>\n",
       "      <th></th>\n",
       "      <th></th>\n",
       "      <th></th>\n",
       "      <th></th>\n",
       "      <th></th>\n",
       "      <th></th>\n",
       "      <th></th>\n",
       "      <th></th>\n",
       "      <th></th>\n",
       "      <th></th>\n",
       "      <th></th>\n",
       "      <th></th>\n",
       "      <th></th>\n",
       "      <th></th>\n",
       "      <th></th>\n",
       "      <th></th>\n",
       "      <th></th>\n",
       "    </tr>\n",
       "  </thead>\n",
       "  <tbody>\n",
       "    <tr>\n",
       "      <th>11004</th>\n",
       "      <td>1893</td>\n",
       "      <td>2n Cycle</td>\n",
       "      <td>Single</td>\n",
       "      <td>60182.0</td>\n",
       "      <td>0</td>\n",
       "      <td>1</td>\n",
       "      <td>17-05-2014</td>\n",
       "      <td>23</td>\n",
       "      <td>8</td>\n",
       "      <td>0</td>\n",
       "      <td>5</td>\n",
       "      <td>7</td>\n",
       "      <td>0</td>\n",
       "      <td>2</td>\n",
       "      <td>1</td>\n",
       "      <td>1</td>\n",
       "      <td>0</td>\n",
       "      <td>2</td>\n",
       "      <td>4</td>\n",
       "      <td>0</td>\n",
       "      <td>0</td>\n",
       "      <td>0</td>\n",
       "      <td>0</td>\n",
       "      <td>0</td>\n",
       "      <td>0</td>\n",
       "      <td>3</td>\n",
       "      <td>11</td>\n",
       "      <td>0</td>\n",
       "    </tr>\n",
       "    <tr>\n",
       "      <th>1150</th>\n",
       "      <td>1899</td>\n",
       "      <td>PhD</td>\n",
       "      <td>Together</td>\n",
       "      <td>83532.0</td>\n",
       "      <td>0</td>\n",
       "      <td>0</td>\n",
       "      <td>26-09-2013</td>\n",
       "      <td>36</td>\n",
       "      <td>755</td>\n",
       "      <td>144</td>\n",
       "      <td>562</td>\n",
       "      <td>104</td>\n",
       "      <td>64</td>\n",
       "      <td>224</td>\n",
       "      <td>1</td>\n",
       "      <td>4</td>\n",
       "      <td>6</td>\n",
       "      <td>4</td>\n",
       "      <td>1</td>\n",
       "      <td>0</td>\n",
       "      <td>0</td>\n",
       "      <td>1</td>\n",
       "      <td>0</td>\n",
       "      <td>0</td>\n",
       "      <td>0</td>\n",
       "      <td>3</td>\n",
       "      <td>11</td>\n",
       "      <td>0</td>\n",
       "    </tr>\n",
       "    <tr>\n",
       "      <th>7829</th>\n",
       "      <td>1900</td>\n",
       "      <td>2n Cycle</td>\n",
       "      <td>Divorced</td>\n",
       "      <td>36640.0</td>\n",
       "      <td>1</td>\n",
       "      <td>0</td>\n",
       "      <td>26-09-2013</td>\n",
       "      <td>99</td>\n",
       "      <td>15</td>\n",
       "      <td>6</td>\n",
       "      <td>8</td>\n",
       "      <td>7</td>\n",
       "      <td>4</td>\n",
       "      <td>25</td>\n",
       "      <td>1</td>\n",
       "      <td>2</td>\n",
       "      <td>1</td>\n",
       "      <td>2</td>\n",
       "      <td>5</td>\n",
       "      <td>0</td>\n",
       "      <td>0</td>\n",
       "      <td>0</td>\n",
       "      <td>0</td>\n",
       "      <td>0</td>\n",
       "      <td>1</td>\n",
       "      <td>3</td>\n",
       "      <td>11</td>\n",
       "      <td>0</td>\n",
       "    </tr>\n",
       "    <tr>\n",
       "      <th>6663</th>\n",
       "      <td>1940</td>\n",
       "      <td>PhD</td>\n",
       "      <td>Single</td>\n",
       "      <td>51141.0</td>\n",
       "      <td>0</td>\n",
       "      <td>0</td>\n",
       "      <td>08-07-2013</td>\n",
       "      <td>96</td>\n",
       "      <td>144</td>\n",
       "      <td>0</td>\n",
       "      <td>7</td>\n",
       "      <td>0</td>\n",
       "      <td>0</td>\n",
       "      <td>6</td>\n",
       "      <td>1</td>\n",
       "      <td>3</td>\n",
       "      <td>1</td>\n",
       "      <td>4</td>\n",
       "      <td>5</td>\n",
       "      <td>0</td>\n",
       "      <td>0</td>\n",
       "      <td>0</td>\n",
       "      <td>0</td>\n",
       "      <td>0</td>\n",
       "      <td>0</td>\n",
       "      <td>3</td>\n",
       "      <td>11</td>\n",
       "      <td>0</td>\n",
       "    </tr>\n",
       "    <tr>\n",
       "      <th>6932</th>\n",
       "      <td>1941</td>\n",
       "      <td>PhD</td>\n",
       "      <td>Married</td>\n",
       "      <td>93027.0</td>\n",
       "      <td>0</td>\n",
       "      <td>0</td>\n",
       "      <td>13-04-2013</td>\n",
       "      <td>77</td>\n",
       "      <td>1285</td>\n",
       "      <td>42</td>\n",
       "      <td>716</td>\n",
       "      <td>55</td>\n",
       "      <td>0</td>\n",
       "      <td>21</td>\n",
       "      <td>0</td>\n",
       "      <td>7</td>\n",
       "      <td>10</td>\n",
       "      <td>5</td>\n",
       "      <td>2</td>\n",
       "      <td>0</td>\n",
       "      <td>0</td>\n",
       "      <td>1</td>\n",
       "      <td>0</td>\n",
       "      <td>0</td>\n",
       "      <td>0</td>\n",
       "      <td>3</td>\n",
       "      <td>11</td>\n",
       "      <td>0</td>\n",
       "    </tr>\n",
       "  </tbody>\n",
       "</table>\n",
       "</div>"
      ],
      "text/plain": [
       "       Year_Birth Education Marital_Status   Income  Kidhome  Teenhome  \\\n",
       "ID                                                                       \n",
       "11004        1893  2n Cycle         Single  60182.0        0         1   \n",
       "1150         1899       PhD       Together  83532.0        0         0   \n",
       "7829         1900  2n Cycle       Divorced  36640.0        1         0   \n",
       "6663         1940       PhD         Single  51141.0        0         0   \n",
       "6932         1941       PhD        Married  93027.0        0         0   \n",
       "\n",
       "      Dt_Customer  Recency  MntWines  MntFruits  MntMeatProducts  \\\n",
       "ID                                                                 \n",
       "11004  17-05-2014       23         8          0                5   \n",
       "1150   26-09-2013       36       755        144              562   \n",
       "7829   26-09-2013       99        15          6                8   \n",
       "6663   08-07-2013       96       144          0                7   \n",
       "6932   13-04-2013       77      1285         42              716   \n",
       "\n",
       "       MntFishProducts  MntSweetProducts  MntGoldProds  NumDealsPurchases  \\\n",
       "ID                                                                          \n",
       "11004                7                 0             2                  1   \n",
       "1150               104                64           224                  1   \n",
       "7829                 7                 4            25                  1   \n",
       "6663                 0                 0             6                  1   \n",
       "6932                55                 0            21                  0   \n",
       "\n",
       "       NumWebPurchases  NumCatalogPurchases  NumStorePurchases  \\\n",
       "ID                                                               \n",
       "11004                1                    0                  2   \n",
       "1150                 4                    6                  4   \n",
       "7829                 2                    1                  2   \n",
       "6663                 3                    1                  4   \n",
       "6932                 7                   10                  5   \n",
       "\n",
       "       NumWebVisitsMonth  AcceptedCmp3  AcceptedCmp4  AcceptedCmp5  \\\n",
       "ID                                                                   \n",
       "11004                  4             0             0             0   \n",
       "1150                   1             0             0             1   \n",
       "7829                   5             0             0             0   \n",
       "6663                   5             0             0             0   \n",
       "6932                   2             0             0             1   \n",
       "\n",
       "       AcceptedCmp1  AcceptedCmp2  Complain  Z_CostContact  Z_Revenue  \\\n",
       "ID                                                                      \n",
       "11004             0             0         0              3         11   \n",
       "1150              0             0         0              3         11   \n",
       "7829              0             0         1              3         11   \n",
       "6663              0             0         0              3         11   \n",
       "6932              0             0         0              3         11   \n",
       "\n",
       "       Response  \n",
       "ID               \n",
       "11004         0  \n",
       "1150          0  \n",
       "7829          0  \n",
       "6663          0  \n",
       "6932          0  "
      ]
     },
     "execution_count": 10,
     "metadata": {},
     "output_type": "execute_result"
    }
   ],
   "source": [
    "df.sort_values('Year_Birth').head()"
   ]
  },
  {
   "cell_type": "code",
   "execution_count": 11,
   "id": "934b63a5",
   "metadata": {},
   "outputs": [],
   "source": [
    "df.drop([11004, 1150, 7829], inplace=True)"
   ]
  },
  {
   "cell_type": "code",
   "execution_count": 12,
   "id": "b6bc48c8",
   "metadata": {},
   "outputs": [
    {
     "data": {
      "text/plain": [
       "Text(0, 0.5, 'Ilość wystąpień')"
      ]
     },
     "execution_count": 12,
     "metadata": {},
     "output_type": "execute_result"
    },
    {
     "data": {
      "image/png": "[encoded data removed]",
      "text/plain": [
       "<Figure size 640x480 with 1 Axes>"
      ]
     },
     "metadata": {},
     "output_type": "display_data"
    }
   ],
   "source": [
    "fig, ax = plt.subplots()\n",
    "sns.histplot(df['Year_Birth'], kde=False)\n",
    "\n",
    "plt.title('Rozkład lat urodzin klientów')\n",
    "plt.xlabel('Rok urodzenia')\n",
    "plt.ylabel('Ilość wystąpień')"
   ]
  },
  {
   "cell_type": "markdown",
   "id": "23b6a9f5",
   "metadata": {},
   "source": [
    "## Zamień Dt_Customer na format daty i wyciągnij z niej rok "
   ]
  },
  {
   "cell_type": "code",
   "execution_count": 13,
   "id": "d54f8a9c",
   "metadata": {},
   "outputs": [],
   "source": [
    "df['Dt_Customer'] = pd.to_datetime(df['Dt_Customer'], dayfirst=True)"
   ]
  },
  {
   "cell_type": "markdown",
   "id": "e12a7208",
   "metadata": {},
   "source": [
    "## Stwórz nową kolumnę, która będzie określała, w jakim wieku był klient podczas dokonywania zakupy "
   ]
  },
  {
   "cell_type": "code",
   "execution_count": 14,
   "id": "0363716b",
   "metadata": {},
   "outputs": [],
   "source": [
    "df['Age'] = df['Dt_Customer'].dt.year - df['Year_Birth']"
   ]
  },
  {
   "cell_type": "code",
   "execution_count": 15,
   "id": "736fe251",
   "metadata": {},
   "outputs": [
    {
     "data": {
      "text/plain": [
       "count    2055.000000\n",
       "mean       44.139659\n",
       "std        11.701932\n",
       "min        16.000000\n",
       "25%        36.000000\n",
       "50%        43.000000\n",
       "75%        54.000000\n",
       "max        73.000000\n",
       "Name: Age, dtype: float64"
      ]
     },
     "execution_count": 15,
     "metadata": {},
     "output_type": "execute_result"
    }
   ],
   "source": [
    "df['Age'].describe()"
   ]
  },
  {
   "cell_type": "markdown",
   "id": "3a408107",
   "metadata": {},
   "source": [
    "## Sprawdź, ilu klientów miało poszczególne stopnie edukacji "
   ]
  },
  {
   "cell_type": "code",
   "execution_count": 16,
   "id": "e2c1d3ee",
   "metadata": {},
   "outputs": [
    {
     "data": {
      "text/plain": [
       "Graduation    1030\n",
       "PhD            449\n",
       "Master         341\n",
       "2n Cycle       186\n",
       "Basic           49\n",
       "Name: Education, dtype: int64"
      ]
     },
     "execution_count": 16,
     "metadata": {},
     "output_type": "execute_result"
    }
   ],
   "source": [
    "df['Education'].value_counts()"
   ]
  },
  {
   "cell_type": "markdown",
   "id": "b7f672ba",
   "metadata": {},
   "source": [
    "## Sprawdź Marital_Status "
   ]
  },
  {
   "cell_type": "code",
   "execution_count": 17,
   "id": "23d622c3",
   "metadata": {},
   "outputs": [
    {
     "data": {
      "text/plain": [
       "Married     795\n",
       "Together    520\n",
       "Single      447\n",
       "Divorced    215\n",
       "Widow        71\n",
       "Alone         3\n",
       "Absurd        2\n",
       "YOLO          2\n",
       "Name: Marital_Status, dtype: int64"
      ]
     },
     "execution_count": 17,
     "metadata": {},
     "output_type": "execute_result"
    }
   ],
   "source": [
    "df['Marital_Status'].value_counts()"
   ]
  },
  {
   "cell_type": "code",
   "execution_count": 18,
   "id": "7a61fff2",
   "metadata": {},
   "outputs": [],
   "source": [
    "to_remove = ['Alone', 'Absurd', 'YOLO']\n",
    "for i in to_remove:\n",
    "    df['Marital_Status'].replace(i, 'Single', inplace=True)"
   ]
  },
  {
   "cell_type": "markdown",
   "id": "d17f1d60",
   "metadata": {},
   "source": [
    "## Sprawdź rozkład zmiennej Income"
   ]
  },
  {
   "cell_type": "code",
   "execution_count": 19,
   "id": "6bcf0bda",
   "metadata": {},
   "outputs": [
    {
     "data": {
      "text/plain": [
       "Text(500000, 120, 'Outlier')"
      ]
     },
     "execution_count": 19,
     "metadata": {},
     "output_type": "execute_result"
    },
    {
     "data": {
      "image/png": "[encoded data removed]",
      "text/plain": [
       "<Figure size 640x480 with 1 Axes>"
      ]
     },
     "metadata": {},
     "output_type": "display_data"
    }
   ],
   "source": [
    "fig, ax = plt.subplots()\n",
    "sns.histplot(df['Income'])\n",
    "\n",
    "plt.title('Rozkład dla przychodu')\n",
    "plt.xlabel('Przychód')\n",
    "plt.ylabel('Ilość wystąpień')\n",
    "\n",
    "ax.annotate('Outlier', \n",
    "            xy=(665000, 0),\n",
    "            xytext=(500000, 120),\n",
    "            va='center',\n",
    "            ha='center',\n",
    "            arrowprops={'arrowstyle': '->', 'color': 'red'})"
   ]
  },
  {
   "cell_type": "code",
   "execution_count": 20,
   "id": "b22dcd5c",
   "metadata": {},
   "outputs": [
    {
     "data": {
      "text/html": [
       "<div>\n",
       "<style scoped>\n",
       "    .dataframe tbody tr th:only-of-type {\n",
       "        vertical-align: middle;\n",
       "    }\n",
       "\n",
       "    .dataframe tbody tr th {\n",
       "        vertical-align: top;\n",
       "    }\n",
       "\n",
       "    .dataframe thead th {\n",
       "        text-align: right;\n",
       "    }\n",
       "</style>\n",
       "<table border=\"1\" class=\"dataframe\">\n",
       "  <thead>\n",
       "    <tr style=\"text-align: right;\">\n",
       "      <th></th>\n",
       "      <th>Year_Birth</th>\n",
       "      <th>Education</th>\n",
       "      <th>Marital_Status</th>\n",
       "      <th>Income</th>\n",
       "      <th>Kidhome</th>\n",
       "      <th>Teenhome</th>\n",
       "      <th>Dt_Customer</th>\n",
       "      <th>Recency</th>\n",
       "      <th>MntWines</th>\n",
       "      <th>MntFruits</th>\n",
       "      <th>MntMeatProducts</th>\n",
       "      <th>MntFishProducts</th>\n",
       "      <th>MntSweetProducts</th>\n",
       "      <th>MntGoldProds</th>\n",
       "      <th>NumDealsPurchases</th>\n",
       "      <th>NumWebPurchases</th>\n",
       "      <th>NumCatalogPurchases</th>\n",
       "      <th>NumStorePurchases</th>\n",
       "      <th>NumWebVisitsMonth</th>\n",
       "      <th>AcceptedCmp3</th>\n",
       "      <th>AcceptedCmp4</th>\n",
       "      <th>AcceptedCmp5</th>\n",
       "      <th>AcceptedCmp1</th>\n",
       "      <th>AcceptedCmp2</th>\n",
       "      <th>Complain</th>\n",
       "      <th>Z_CostContact</th>\n",
       "      <th>Z_Revenue</th>\n",
       "      <th>Response</th>\n",
       "      <th>Age</th>\n",
       "    </tr>\n",
       "    <tr>\n",
       "      <th>ID</th>\n",
       "      <th></th>\n",
       "      <th></th>\n",
       "      <th></th>\n",
       "      <th></th>\n",
       "      <th></th>\n",
       "      <th></th>\n",
       "      <th></th>\n",
       "      <th></th>\n",
       "      <th></th>\n",
       "      <th></th>\n",
       "      <th></th>\n",
       "      <th></th>\n",
       "      <th></th>\n",
       "      <th></th>\n",
       "      <th></th>\n",
       "      <th></th>\n",
       "      <th></th>\n",
       "      <th></th>\n",
       "      <th></th>\n",
       "      <th></th>\n",
       "      <th></th>\n",
       "      <th></th>\n",
       "      <th></th>\n",
       "      <th></th>\n",
       "      <th></th>\n",
       "      <th></th>\n",
       "      <th></th>\n",
       "      <th></th>\n",
       "      <th></th>\n",
       "    </tr>\n",
       "  </thead>\n",
       "  <tbody>\n",
       "    <tr>\n",
       "      <th>9432</th>\n",
       "      <td>1977</td>\n",
       "      <td>Graduation</td>\n",
       "      <td>Together</td>\n",
       "      <td>666666.0</td>\n",
       "      <td>1</td>\n",
       "      <td>0</td>\n",
       "      <td>2013-06-02</td>\n",
       "      <td>23</td>\n",
       "      <td>9</td>\n",
       "      <td>14</td>\n",
       "      <td>18</td>\n",
       "      <td>8</td>\n",
       "      <td>1</td>\n",
       "      <td>12</td>\n",
       "      <td>4</td>\n",
       "      <td>3</td>\n",
       "      <td>1</td>\n",
       "      <td>3</td>\n",
       "      <td>6</td>\n",
       "      <td>0</td>\n",
       "      <td>0</td>\n",
       "      <td>0</td>\n",
       "      <td>0</td>\n",
       "      <td>0</td>\n",
       "      <td>0</td>\n",
       "      <td>3</td>\n",
       "      <td>11</td>\n",
       "      <td>0</td>\n",
       "      <td>36</td>\n",
       "    </tr>\n",
       "    <tr>\n",
       "      <th>1503</th>\n",
       "      <td>1976</td>\n",
       "      <td>PhD</td>\n",
       "      <td>Together</td>\n",
       "      <td>162397.0</td>\n",
       "      <td>1</td>\n",
       "      <td>1</td>\n",
       "      <td>2013-06-03</td>\n",
       "      <td>31</td>\n",
       "      <td>85</td>\n",
       "      <td>1</td>\n",
       "      <td>16</td>\n",
       "      <td>2</td>\n",
       "      <td>1</td>\n",
       "      <td>2</td>\n",
       "      <td>0</td>\n",
       "      <td>0</td>\n",
       "      <td>0</td>\n",
       "      <td>1</td>\n",
       "      <td>1</td>\n",
       "      <td>0</td>\n",
       "      <td>0</td>\n",
       "      <td>0</td>\n",
       "      <td>0</td>\n",
       "      <td>0</td>\n",
       "      <td>0</td>\n",
       "      <td>3</td>\n",
       "      <td>11</td>\n",
       "      <td>0</td>\n",
       "      <td>37</td>\n",
       "    </tr>\n",
       "    <tr>\n",
       "      <th>1501</th>\n",
       "      <td>1982</td>\n",
       "      <td>PhD</td>\n",
       "      <td>Married</td>\n",
       "      <td>160803.0</td>\n",
       "      <td>0</td>\n",
       "      <td>0</td>\n",
       "      <td>2012-08-04</td>\n",
       "      <td>21</td>\n",
       "      <td>55</td>\n",
       "      <td>16</td>\n",
       "      <td>1622</td>\n",
       "      <td>17</td>\n",
       "      <td>3</td>\n",
       "      <td>4</td>\n",
       "      <td>15</td>\n",
       "      <td>0</td>\n",
       "      <td>28</td>\n",
       "      <td>1</td>\n",
       "      <td>0</td>\n",
       "      <td>0</td>\n",
       "      <td>0</td>\n",
       "      <td>0</td>\n",
       "      <td>0</td>\n",
       "      <td>0</td>\n",
       "      <td>0</td>\n",
       "      <td>3</td>\n",
       "      <td>11</td>\n",
       "      <td>0</td>\n",
       "      <td>30</td>\n",
       "    </tr>\n",
       "    <tr>\n",
       "      <th>5336</th>\n",
       "      <td>1971</td>\n",
       "      <td>Master</td>\n",
       "      <td>Together</td>\n",
       "      <td>157733.0</td>\n",
       "      <td>1</td>\n",
       "      <td>0</td>\n",
       "      <td>2013-06-04</td>\n",
       "      <td>37</td>\n",
       "      <td>39</td>\n",
       "      <td>1</td>\n",
       "      <td>9</td>\n",
       "      <td>2</td>\n",
       "      <td>0</td>\n",
       "      <td>8</td>\n",
       "      <td>0</td>\n",
       "      <td>1</td>\n",
       "      <td>0</td>\n",
       "      <td>1</td>\n",
       "      <td>1</td>\n",
       "      <td>0</td>\n",
       "      <td>0</td>\n",
       "      <td>0</td>\n",
       "      <td>0</td>\n",
       "      <td>0</td>\n",
       "      <td>0</td>\n",
       "      <td>3</td>\n",
       "      <td>11</td>\n",
       "      <td>0</td>\n",
       "      <td>42</td>\n",
       "    </tr>\n",
       "    <tr>\n",
       "      <th>8475</th>\n",
       "      <td>1973</td>\n",
       "      <td>PhD</td>\n",
       "      <td>Married</td>\n",
       "      <td>157243.0</td>\n",
       "      <td>0</td>\n",
       "      <td>1</td>\n",
       "      <td>2014-03-01</td>\n",
       "      <td>98</td>\n",
       "      <td>20</td>\n",
       "      <td>2</td>\n",
       "      <td>1582</td>\n",
       "      <td>1</td>\n",
       "      <td>2</td>\n",
       "      <td>1</td>\n",
       "      <td>15</td>\n",
       "      <td>0</td>\n",
       "      <td>22</td>\n",
       "      <td>0</td>\n",
       "      <td>0</td>\n",
       "      <td>0</td>\n",
       "      <td>0</td>\n",
       "      <td>0</td>\n",
       "      <td>0</td>\n",
       "      <td>0</td>\n",
       "      <td>0</td>\n",
       "      <td>3</td>\n",
       "      <td>11</td>\n",
       "      <td>0</td>\n",
       "      <td>41</td>\n",
       "    </tr>\n",
       "  </tbody>\n",
       "</table>\n",
       "</div>"
      ],
      "text/plain": [
       "      Year_Birth   Education Marital_Status    Income  Kidhome  Teenhome  \\\n",
       "ID                                                                         \n",
       "9432        1977  Graduation       Together  666666.0        1         0   \n",
       "1503        1976         PhD       Together  162397.0        1         1   \n",
       "1501        1982         PhD        Married  160803.0        0         0   \n",
       "5336        1971      Master       Together  157733.0        1         0   \n",
       "8475        1973         PhD        Married  157243.0        0         1   \n",
       "\n",
       "     Dt_Customer  Recency  MntWines  MntFruits  MntMeatProducts  \\\n",
       "ID                                                                \n",
       "9432  2013-06-02       23         9         14               18   \n",
       "1503  2013-06-03       31        85          1               16   \n",
       "1501  2012-08-04       21        55         16             1622   \n",
       "5336  2013-06-04       37        39          1                9   \n",
       "8475  2014-03-01       98        20          2             1582   \n",
       "\n",
       "      MntFishProducts  MntSweetProducts  MntGoldProds  NumDealsPurchases  \\\n",
       "ID                                                                         \n",
       "9432                8                 1            12                  4   \n",
       "1503                2                 1             2                  0   \n",
       "1501               17                 3             4                 15   \n",
       "5336                2                 0             8                  0   \n",
       "8475                1                 2             1                 15   \n",
       "\n",
       "      NumWebPurchases  NumCatalogPurchases  NumStorePurchases  \\\n",
       "ID                                                              \n",
       "9432                3                    1                  3   \n",
       "1503                0                    0                  1   \n",
       "1501                0                   28                  1   \n",
       "5336                1                    0                  1   \n",
       "8475                0                   22                  0   \n",
       "\n",
       "      NumWebVisitsMonth  AcceptedCmp3  AcceptedCmp4  AcceptedCmp5  \\\n",
       "ID                                                                  \n",
       "9432                  6             0             0             0   \n",
       "1503                  1             0             0             0   \n",
       "1501                  0             0             0             0   \n",
       "5336                  1             0             0             0   \n",
       "8475                  0             0             0             0   \n",
       "\n",
       "      AcceptedCmp1  AcceptedCmp2  Complain  Z_CostContact  Z_Revenue  \\\n",
       "ID                                                                     \n",
       "9432             0             0         0              3         11   \n",
       "1503             0             0         0              3         11   \n",
       "1501             0             0         0              3         11   \n",
       "5336             0             0         0              3         11   \n",
       "8475             0             0         0              3         11   \n",
       "\n",
       "      Response  Age  \n",
       "ID                   \n",
       "9432         0   36  \n",
       "1503         0   37  \n",
       "1501         0   30  \n",
       "5336         0   42  \n",
       "8475         0   41  "
      ]
     },
     "execution_count": 20,
     "metadata": {},
     "output_type": "execute_result"
    }
   ],
   "source": [
    "df.sort_values(by='Income', ascending=False).head()"
   ]
  },
  {
   "cell_type": "code",
   "execution_count": 21,
   "id": "e86ae877",
   "metadata": {},
   "outputs": [],
   "source": [
    "df.drop(9432, inplace=True)"
   ]
  },
  {
   "cell_type": "code",
   "execution_count": 22,
   "id": "f38264b2",
   "metadata": {},
   "outputs": [
    {
     "data": {
      "text/plain": [
       "Text(0, 0.5, 'Ilość wystąpień')"
      ]
     },
     "execution_count": 22,
     "metadata": {},
     "output_type": "execute_result"
    },
    {
     "data": {
      "image/png": "[encoded data removed]",
      "text/plain": [
       "<Figure size 640x480 with 1 Axes>"
      ]
     },
     "metadata": {},
     "output_type": "display_data"
    }
   ],
   "source": [
    "fig, ax = plt.subplots()\n",
    "sns.histplot(df['Income'])\n",
    "\n",
    "plt.title('Rozkład dla przychodu')\n",
    "plt.xlabel('Przychód')\n",
    "plt.ylabel('Ilość wystąpień')"
   ]
  },
  {
   "cell_type": "markdown",
   "id": "a76ab760",
   "metadata": {},
   "source": [
    "## Sprawdź, ile klienci wydawali na produkty alkoholowe, ryby, mięso, słodycze... (kolumny zaczynające się od Mnt) "
   ]
  },
  {
   "cell_type": "code",
   "execution_count": 24,
   "id": "c056e4ee",
   "metadata": {},
   "outputs": [
    {
     "data": {
      "image/png": "[encoded data removed]",
      "text/plain": [
       "<Figure size 1000x500 with 2 Axes>"
      ]
     },
     "metadata": {},
     "output_type": "display_data"
    }
   ],
   "source": [
    "fig, axes = plt.subplots(1,2)\n",
    "\n",
    "for ax in fig.axes:\n",
    "    plt.sca(ax)\n",
    "    plt.xticks(rotation=70)\n",
    "    plt.xlabel('Kategoria')\n",
    "    plt.ylabel('Wartość zakupów')\n",
    "    \n",
    "sns.boxplot(data=df[['MntFruits', 'MntFishProducts', 'MntSweetProducts', 'MntGoldProds']], ax=axes[0])\n",
    "sns.boxplot(data=df[['MntWines','MntMeatProducts']], ax=axes[1])\n",
    "\n",
    "axes[0].set_title(\"Wartość zakupów dla poszczególnych kategorii produktów\", fontsize=11)\n",
    "axes[1].set_title(\"Wartość zakupów dla poszczególnych kategorii produktów\", fontsize=11)\n",
    "sns.set(rc={'figure.figsize':(10, 5)})\n",
    "plt.show()"
   ]
  },
  {
   "cell_type": "markdown",
   "id": "0f8c56a4",
   "metadata": {},
   "source": [
    "## Sprawdź, czy w jakiś kolumnach są wartości brakujące, jeżeli tak, uzupełnij je "
   ]
  },
  {
   "cell_type": "code",
   "execution_count": 25,
   "id": "8d64a82a",
   "metadata": {},
   "outputs": [
    {
     "data": {
      "text/plain": [
       "Income    24.0\n",
       "dtype: float64"
      ]
     },
     "execution_count": 25,
     "metadata": {},
     "output_type": "execute_result"
    }
   ],
   "source": [
    "na_counter = df.isna().sum(axis=0)\n",
    "na_counter.where(na_counter>0).dropna()"
   ]
  },
  {
   "cell_type": "code",
   "execution_count": 26,
   "id": "58383d0a",
   "metadata": {},
   "outputs": [
    {
     "data": {
      "text/plain": [
       "Text(0, 0.5, 'Przychód')"
      ]
     },
     "execution_count": 26,
     "metadata": {},
     "output_type": "execute_result"
    },
    {
     "data": {
      "image/png": "[encoded data removed]",
      "text/plain": [
       "<Figure size 1000x500 with 1 Axes>"
      ]
     },
     "metadata": {},
     "output_type": "display_data"
    }
   ],
   "source": [
    "fig, ax = plt.subplots()\n",
    "\n",
    "sns.boxplot(x=df['Education'], y=df['Income'])\n",
    "sns.set(rc={'figure.figsize':(10,5)})\n",
    "\n",
    "plt.title('Wykres zależności przychodu o wykształcenia', fontsize=15)\n",
    "plt.xlabel('Wykształcenie')\n",
    "plt.ylabel('Przychód')"
   ]
  },
  {
   "cell_type": "code",
   "execution_count": 27,
   "id": "4bfb2006",
   "metadata": {},
   "outputs": [
    {
     "data": {
      "text/plain": [
       "Graduation    11\n",
       "PhD            5\n",
       "Master         5\n",
       "2n Cycle       3\n",
       "Name: Education, dtype: int64"
      ]
     },
     "execution_count": 27,
     "metadata": {},
     "output_type": "execute_result"
    }
   ],
   "source": [
    "df['Education'].loc[df.isnull().any(axis=1)].value_counts()"
   ]
  },
  {
   "cell_type": "code",
   "execution_count": 28,
   "id": "6b5878e9",
   "metadata": {},
   "outputs": [
    {
     "data": {
      "text/plain": [
       "(1962.4, 1973.6]      634\n",
       "(1973.6, 1984.8]      579\n",
       "(1951.2, 1962.4]      480\n",
       "(1984.8, 1996.0]      199\n",
       "(1939.943, 1951.2]    162\n",
       "Name: Year_Birth, dtype: int64"
      ]
     },
     "execution_count": 28,
     "metadata": {},
     "output_type": "execute_result"
    }
   ],
   "source": [
    "binned_cust = pd.cut(df['Year_Birth'], 5, include_lowest=True)\n",
    "binned_cust.value_counts()"
   ]
  },
  {
   "cell_type": "code",
   "execution_count": 29,
   "id": "03831be2",
   "metadata": {},
   "outputs": [],
   "source": [
    "df['Age_Category'] = binned_cust"
   ]
  },
  {
   "cell_type": "code",
   "execution_count": 30,
   "id": "bd20c122",
   "metadata": {},
   "outputs": [
    {
     "data": {
      "text/plain": [
       "Text(0, 0.5, 'Przychód')"
      ]
     },
     "execution_count": 30,
     "metadata": {},
     "output_type": "execute_result"
    },
    {
     "data": {
      "image/png": "[encoded data removed]",
      "text/plain": [
       "<Figure size 1000x500 with 1 Axes>"
      ]
     },
     "metadata": {},
     "output_type": "display_data"
    }
   ],
   "source": [
    "fig, ax = plt.subplots()\n",
    "\n",
    "sns.boxplot(x=df['Age_Category'], y=df['Income'])\n",
    "sns.set(rc={'figure.figsize':(10,5)})\n",
    "\n",
    "plt.title('Wykres zależności przychodu od roku urodzenia', fontsize=15)\n",
    "plt.xlabel('Rok urodzenia')\n",
    "plt.ylabel('Przychód')"
   ]
  },
  {
   "cell_type": "code",
   "execution_count": 31,
   "id": "a3325aca",
   "metadata": {},
   "outputs": [
    {
     "data": {
      "text/plain": [
       "(1962.4, 1973.6]      9\n",
       "(1951.2, 1962.4]      7\n",
       "(1973.6, 1984.8]      4\n",
       "(1939.943, 1951.2]    2\n",
       "(1984.8, 1996.0]      2\n",
       "Name: Age_Category, dtype: int64"
      ]
     },
     "execution_count": 31,
     "metadata": {},
     "output_type": "execute_result"
    }
   ],
   "source": [
    "df['Age_Category'].loc[df.isnull().any(axis=1)].value_counts()"
   ]
  },
  {
   "cell_type": "code",
   "execution_count": 32,
   "id": "939ad73d",
   "metadata": {},
   "outputs": [],
   "source": [
    "df['Age_Category'] = df['Age_Category'].map(df['Income'].groupby(df['Age_Category']).mean())"
   ]
  },
  {
   "cell_type": "code",
   "execution_count": 33,
   "id": "39be487d",
   "metadata": {},
   "outputs": [],
   "source": [
    "df['Income'] = np.where(df['Income'].isnull(), df['Age_Category'], df['Income'])\n",
    "df.drop('Age_Category', axis=1, inplace=True)"
   ]
  },
  {
   "cell_type": "markdown",
   "id": "2c45e373",
   "metadata": {},
   "source": [
    "## Sprawdź wartości w kolumnach Z_CostContact, Z_Revenue "
   ]
  },
  {
   "cell_type": "code",
   "execution_count": 34,
   "id": "106f5400",
   "metadata": {},
   "outputs": [
    {
     "data": {
      "text/plain": [
       "3    2054\n",
       "Name: Z_CostContact, dtype: int64"
      ]
     },
     "execution_count": 34,
     "metadata": {},
     "output_type": "execute_result"
    }
   ],
   "source": [
    "df['Z_CostContact'].value_counts()"
   ]
  },
  {
   "cell_type": "code",
   "execution_count": 35,
   "id": "ab4f35de",
   "metadata": {},
   "outputs": [
    {
     "data": {
      "text/plain": [
       "11    2054\n",
       "Name: Z_Revenue, dtype: int64"
      ]
     },
     "execution_count": 35,
     "metadata": {},
     "output_type": "execute_result"
    }
   ],
   "source": [
    "df['Z_Revenue'].value_counts()"
   ]
  },
  {
   "cell_type": "code",
   "execution_count": 36,
   "id": "b7432189",
   "metadata": {},
   "outputs": [],
   "source": [
    "df.drop(['Z_CostContact', 'Z_Revenue'], axis=1, inplace=True)"
   ]
  },
  {
   "cell_type": "markdown",
   "id": "8f13df89",
   "metadata": {},
   "source": [
    "## Sprawdź liczebność wartości w kolumnie Response "
   ]
  },
  {
   "cell_type": "code",
   "execution_count": 37,
   "id": "7f9f3186",
   "metadata": {},
   "outputs": [
    {
     "data": {
      "text/plain": [
       "0    1741\n",
       "1     313\n",
       "Name: Response, dtype: int64"
      ]
     },
     "execution_count": 37,
     "metadata": {},
     "output_type": "execute_result"
    }
   ],
   "source": [
    "df['Response'].value_counts()"
   ]
  },
  {
   "cell_type": "markdown",
   "id": "cad50eb4",
   "metadata": {},
   "source": [
    "# Przygotowanie danych do modelowania"
   ]
  },
  {
   "cell_type": "markdown",
   "id": "8fe911e6",
   "metadata": {},
   "source": [
    "## Dyskretyzacja kolumn Year_Birth, Income, kolumny odnośnie wydatków na jedzenie "
   ]
  },
  {
   "cell_type": "code",
   "execution_count": 38,
   "id": "39c9f2c7",
   "metadata": {},
   "outputs": [],
   "source": [
    "cols = ['Year_Birth', 'Income', 'MntFruits', 'MntFishProducts', 'MntSweetProducts', 'MntGoldProds', 'MntWines','MntMeatProducts']\n",
    "\n",
    "disc = KBinsDiscretizer(n_bins=15, encode='ordinal', strategy='uniform')\n",
    "disc.fit(df[cols])\n",
    "df[cols] = disc.transform(df[cols])"
   ]
  },
  {
   "cell_type": "markdown",
   "id": "5fdef179",
   "metadata": {},
   "source": [
    "## Zamiana na wartości liczbowe Education, Marital_Status "
   ]
  },
  {
   "cell_type": "code",
   "execution_count": 39,
   "id": "eba6b0bc",
   "metadata": {},
   "outputs": [],
   "source": [
    "df['Education'] = df['Education'].astype('category').cat.codes\n",
    "df['Marital_Status'] = df['Marital_Status'].astype('category').cat.codes"
   ]
  },
  {
   "cell_type": "markdown",
   "id": "5972c083",
   "metadata": {},
   "source": [
    "## Usuń niepotrzebne kolumny"
   ]
  },
  {
   "cell_type": "code",
   "execution_count": 40,
   "id": "4956aa7e",
   "metadata": {},
   "outputs": [],
   "source": [
    "df.drop('Dt_Customer', axis=1, inplace=True)"
   ]
  },
  {
   "cell_type": "markdown",
   "id": "ac33ab15",
   "metadata": {},
   "source": [
    "## Zdefiniuj X, y"
   ]
  },
  {
   "cell_type": "code",
   "execution_count": 41,
   "id": "0fcee00e",
   "metadata": {},
   "outputs": [],
   "source": [
    "X = df.drop('Response',axis=1)\n",
    "y = df['Response']"
   ]
  },
  {
   "cell_type": "markdown",
   "id": "e3b9668a",
   "metadata": {},
   "source": [
    "# Modele predykcyjne"
   ]
  },
  {
   "cell_type": "markdown",
   "id": "7b9be7c7",
   "metadata": {},
   "source": [
    "## Podziel zbiór na treningowy i testowy"
   ]
  },
  {
   "cell_type": "code",
   "execution_count": 42,
   "id": "7c2c1fea",
   "metadata": {},
   "outputs": [],
   "source": [
    "X_train, X_test, y_train, y_test = train_test_split(X,y, test_size=0.2)"
   ]
  },
  {
   "cell_type": "markdown",
   "id": "e068cd6f",
   "metadata": {},
   "source": [
    "## Balansowanie zbioru danych: Oversampling, SMOTE, class_weight- porównaj różne podejścia "
   ]
  },
  {
   "cell_type": "code",
   "execution_count": 43,
   "id": "80b0e429",
   "metadata": {},
   "outputs": [
    {
     "data": {
      "text/plain": [
       "0    1741\n",
       "1     313\n",
       "Name: Response, dtype: int64"
      ]
     },
     "execution_count": 43,
     "metadata": {},
     "output_type": "execute_result"
    }
   ],
   "source": [
    "df['Response'].value_counts()"
   ]
  },
  {
   "cell_type": "markdown",
   "id": "a5fbdf5f",
   "metadata": {},
   "source": [
    "### Zbiór niezbalansowany "
   ]
  },
  {
   "cell_type": "code",
   "execution_count": 44,
   "id": "316f2ed6",
   "metadata": {},
   "outputs": [
    {
     "data": {
      "text/plain": [
       "array([[335,  11],\n",
       "       [ 46,  19]], dtype=int64)"
      ]
     },
     "execution_count": 44,
     "metadata": {},
     "output_type": "execute_result"
    }
   ],
   "source": [
    "model = LogisticRegression(random_state=1, max_iter=2000)\n",
    "model.fit(X_train, y_train)\n",
    "y_pred = model.predict(X_test)\n",
    "\n",
    "confusion_matrix(y_test, y_pred)"
   ]
  },
  {
   "cell_type": "markdown",
   "id": "a29c9ab2",
   "metadata": {},
   "source": [
    "### Oversampling"
   ]
  },
  {
   "cell_type": "code",
   "execution_count": 45,
   "id": "3a1654df",
   "metadata": {},
   "outputs": [
    {
     "data": {
      "text/plain": [
       "array([[288,  58],\n",
       "       [ 15,  50]], dtype=int64)"
      ]
     },
     "execution_count": 45,
     "metadata": {},
     "output_type": "execute_result"
    }
   ],
   "source": [
    "over = RandomOverSampler(random_state=1)\n",
    "X_train_over, y_train_over=over.fit_resample(X_train, y_train)\n",
    "\n",
    "model.fit(X_train_over, y_train_over)\n",
    "y_pred_over=model.predict(X_test)\n",
    "\n",
    "confusion_matrix(y_test, y_pred_over)"
   ]
  },
  {
   "cell_type": "markdown",
   "id": "479dbae5",
   "metadata": {},
   "source": [
    "### SMOTE "
   ]
  },
  {
   "cell_type": "code",
   "execution_count": 46,
   "id": "70d63a8d",
   "metadata": {},
   "outputs": [
    {
     "data": {
      "text/plain": [
       "array([[276,  70],\n",
       "       [ 19,  46]], dtype=int64)"
      ]
     },
     "execution_count": 46,
     "metadata": {},
     "output_type": "execute_result"
    }
   ],
   "source": [
    "smote = SMOTE(random_state=1)\n",
    "X_train_smote, y_train_smote=smote.fit_resample(X_train, y_train)\n",
    "\n",
    "model.fit(X_train_smote, y_train_smote)\n",
    "y_pred_smote=model.predict(X_test)\n",
    "\n",
    "confusion_matrix(y_test, y_pred_smote)"
   ]
  },
  {
   "cell_type": "markdown",
   "id": "fb11296d",
   "metadata": {},
   "source": [
    "### class_weight"
   ]
  },
  {
   "cell_type": "code",
   "execution_count": 47,
   "id": "44418eec",
   "metadata": {},
   "outputs": [
    {
     "data": {
      "text/plain": [
       "array([[291,  55],\n",
       "       [ 15,  50]], dtype=int64)"
      ]
     },
     "execution_count": 47,
     "metadata": {},
     "output_type": "execute_result"
    }
   ],
   "source": [
    "model_weight = LogisticRegression(class_weight='balanced', max_iter=2000)\n",
    "model_weight.fit(X_train, y_train)\n",
    "\n",
    "y_pred_weight=model_weight.predict(X_test)\n",
    "confusion_matrix(y_test, y_pred_weight)"
   ]
  },
  {
   "cell_type": "markdown",
   "id": "6696ed6f",
   "metadata": {},
   "source": [
    "## Wykorzystaj wszystkie poznane modele klasyfikacyjne: regresję logistyczną, SVM, KNN, Naive Bayes, Drzewo decyzyjne, zespoły klasyfikatorów"
   ]
  },
  {
   "cell_type": "markdown",
   "id": "32f4a5a9",
   "metadata": {},
   "source": [
    "### Regresja logistyczna"
   ]
  },
  {
   "cell_type": "code",
   "execution_count": 48,
   "id": "938facae",
   "metadata": {},
   "outputs": [],
   "source": [
    "model = LogisticRegression(random_state=1, max_iter=2000)\n",
    "model.fit(X_train_over, y_train_over)\n",
    "y_pred_reg = model.predict(X_test)"
   ]
  },
  {
   "cell_type": "markdown",
   "id": "bc1ac01f",
   "metadata": {},
   "source": [
    "### SVM"
   ]
  },
  {
   "cell_type": "code",
   "execution_count": 49,
   "id": "aaa82317",
   "metadata": {},
   "outputs": [],
   "source": [
    "svm = SVC(kernel='linear')\n",
    "svm.fit(X_train_over, y_train_over)\n",
    "y_pred_svm = svm.predict(X_test)"
   ]
  },
  {
   "cell_type": "code",
   "execution_count": 50,
   "id": "f874f48e",
   "metadata": {},
   "outputs": [],
   "source": [
    "svm = SVC(kernel='rbf')\n",
    "svm.fit(X_train_over, y_train_over)\n",
    "y_pred_rbf = svm.predict(X_test)"
   ]
  },
  {
   "cell_type": "code",
   "execution_count": 51,
   "id": "cb637b26",
   "metadata": {},
   "outputs": [],
   "source": [
    "svm = SVC(kernel='poly')\n",
    "svm.fit(X_train_over, y_train_over)\n",
    "y_pred_poly = svm.predict(X_test)"
   ]
  },
  {
   "cell_type": "markdown",
   "id": "f9f3025c",
   "metadata": {},
   "source": [
    "### KNN "
   ]
  },
  {
   "cell_type": "code",
   "execution_count": 52,
   "id": "d2b551ca",
   "metadata": {},
   "outputs": [
    {
     "name": "stderr",
     "output_type": "stream",
     "text": [
      "C:\\Users\\swini\\anaconda3\\lib\\site-packages\\sklearn\\neighbors\\_classification.py:228: FutureWarning: Unlike other reduction functions (e.g. `skew`, `kurtosis`), the default behavior of `mode` typically preserves the axis it acts along. In SciPy 1.11.0, this behavior will change: the default value of `keepdims` will become False, the `axis` over which the statistic is taken will be eliminated, and the value None will no longer be accepted. Set `keepdims` to True or False to avoid this warning.\n",
      "  mode, _ = stats.mode(_y[neigh_ind, k], axis=1)\n"
     ]
    }
   ],
   "source": [
    "knn = KNeighborsClassifier(n_neighbors=5)\n",
    "knn.fit(X_train_over, y_train_over)\n",
    "y_pred_knn = knn.predict(X_test)"
   ]
  },
  {
   "cell_type": "markdown",
   "id": "b30ddc75",
   "metadata": {},
   "source": [
    "### Naive Bayes"
   ]
  },
  {
   "cell_type": "code",
   "execution_count": 53,
   "id": "bedc6e3d",
   "metadata": {},
   "outputs": [],
   "source": [
    "mnb = MultinomialNB()\n",
    "mnb.fit(X_train_over, y_train_over)\n",
    "y_pred_nb = mnb.predict(X_test)"
   ]
  },
  {
   "cell_type": "markdown",
   "id": "d01e0f60",
   "metadata": {},
   "source": [
    "### Drzewo decyzyjne "
   ]
  },
  {
   "cell_type": "code",
   "execution_count": 54,
   "id": "c92c5b2a",
   "metadata": {},
   "outputs": [],
   "source": [
    "dt = DecisionTreeClassifier()\n",
    "dt.fit(X_train_over, y_train_over)\n",
    "y_pred_dt = dt.predict(X_test)"
   ]
  },
  {
   "cell_type": "markdown",
   "id": "07583424",
   "metadata": {},
   "source": [
    "### Zespoły klasyfikatorów "
   ]
  },
  {
   "cell_type": "markdown",
   "id": "5daf22b6",
   "metadata": {},
   "source": [
    "#### Bagging SVC"
   ]
  },
  {
   "cell_type": "code",
   "execution_count": 55,
   "id": "f35a24cc",
   "metadata": {},
   "outputs": [],
   "source": [
    "clf1 = BaggingClassifier(base_estimator=SVC(), n_estimators=150)\n",
    "clf1.fit(X_train_over, y_train_over)\n",
    "y_pred_bsvc = clf1.predict(X_test)"
   ]
  },
  {
   "cell_type": "markdown",
   "id": "ce695c0c",
   "metadata": {},
   "source": [
    "#### Bagging Decision Tree"
   ]
  },
  {
   "cell_type": "code",
   "execution_count": 56,
   "id": "fe0e3b12",
   "metadata": {},
   "outputs": [],
   "source": [
    "clf2 = BaggingClassifier(base_estimator=DecisionTreeClassifier(), n_estimators=150)\n",
    "clf2.fit(X_train_over, y_train_over)\n",
    "y_pred_bdt = clf2.predict(X_test)"
   ]
  },
  {
   "cell_type": "markdown",
   "id": "54a608a6",
   "metadata": {},
   "source": [
    "#### Adaboost "
   ]
  },
  {
   "cell_type": "code",
   "execution_count": 57,
   "id": "2de39ca4",
   "metadata": {},
   "outputs": [],
   "source": [
    "adaboost_model = AdaBoostClassifier(n_estimators=30)\n",
    "adaboost_model.fit(X_train_over, y_train_over)\n",
    "y_pred_adab = adaboost_model.predict(X_test)"
   ]
  },
  {
   "cell_type": "markdown",
   "id": "650cc12e",
   "metadata": {},
   "source": [
    "#### Gradient Boosting "
   ]
  },
  {
   "cell_type": "code",
   "execution_count": 58,
   "id": "4c4355c8",
   "metadata": {},
   "outputs": [],
   "source": [
    "grad_model = GradientBoostingClassifier(n_estimators=100)\n",
    "grad_model.fit(X_train_over, y_train_over)\n",
    "y_pred_grab = grad_model.predict(X_test)"
   ]
  },
  {
   "cell_type": "markdown",
   "id": "6dbc9120",
   "metadata": {},
   "source": [
    "## Narysuj wynik modeli na krzywej ROC "
   ]
  },
  {
   "cell_type": "code",
   "execution_count": 59,
   "id": "cb1b4102",
   "metadata": {},
   "outputs": [],
   "source": [
    "help_prob=[0 for _ in range(len(y_test))]\n",
    "help_fpr, help_tpr, _=roc_curve(y_test, help_prob)"
   ]
  },
  {
   "cell_type": "code",
   "execution_count": 60,
   "id": "2393b892",
   "metadata": {},
   "outputs": [],
   "source": [
    "fpr_reg, tpr_reg, thresh_bag=roc_curve(y_test, y_pred_reg)\n",
    "fpr_svm, tpr_svm, thresh_rf=roc_curve(y_test, y_pred_svm)\n",
    "fpr_rbf, tpr_rbf, thresh_ada=roc_curve(y_test, y_pred_rbf)\n",
    "fpr_poly, tpr_poly, thresh_grad=roc_curve(y_test, y_pred_poly)\n",
    "fpr_knn, tpr_knn, thresh_grad=roc_curve(y_test, y_pred_knn)\n",
    "fpr_nb, tpr_nb, thresh_grad=roc_curve(y_test, y_pred_nb)\n",
    "fpr_dt, tpr_dt, thresh_grad=roc_curve(y_test, y_pred_dt)\n",
    "fpr_bsvc, tpr_bsvc, thresh_grad=roc_curve(y_test, y_pred_bsvc)\n",
    "fpr_dbt, tpr_dbt, thresh_grad=roc_curve(y_test, y_pred_bdt)\n",
    "fpr_adab, tpr_adab, thresh_grad=roc_curve(y_test, y_pred_adab)\n",
    "fpr_grab, tpr_grab, thresh_grad=roc_curve(y_test, y_pred_grab)"
   ]
  },
  {
   "cell_type": "code",
   "execution_count": 61,
   "id": "f03bd4a9",
   "metadata": {},
   "outputs": [
    {
     "data": {
      "image/png": "[encoded data removed]",
      "text/plain": [
       "<Figure size 1000x500 with 1 Axes>"
      ]
     },
     "metadata": {},
     "output_type": "display_data"
    }
   ],
   "source": [
    "plt.plot(help_fpr, help_tpr, linestyle='--', label='No model')\n",
    "plt.plot(fpr_reg, tpr_reg, marker='.', label='Reggresion')\n",
    "plt.plot(fpr_svm, tpr_svm, marker='.', label='SVM')\n",
    "plt.plot(fpr_rbf, tpr_rbf, marker='.', label='RBF')\n",
    "plt.plot(fpr_poly, tpr_poly, marker='.', label='Poly')\n",
    "plt.plot(fpr_knn, tpr_knn, marker='.', label='KNN')\n",
    "plt.plot(fpr_nb, tpr_nb, marker='.', label='NB')\n",
    "plt.plot(fpr_dt, tpr_dt, marker='.', label='Decision tree')\n",
    "plt.plot(fpr_bsvc, tpr_bsvc, marker='.', label='Bagging SVC')\n",
    "plt.plot(fpr_dbt, tpr_dbt, marker='.', label='Bagging DT')\n",
    "plt.plot(fpr_adab, tpr_adab, marker='.', label='Ada Boost ')\n",
    "plt.plot(fpr_grab, tpr_grab, marker='.', label='Gradient Boosting', color='gold')\n",
    "plt.xlabel('False positive rate')\n",
    "plt.ylabel('True positive rate')\n",
    "plt.title('Receiver operating characteristic')\n",
    "plt.legend()\n",
    "plt.show()"
   ]
  },
  {
   "cell_type": "markdown",
   "id": "f3fc126b",
   "metadata": {},
   "source": [
    "## Zastosuj walidację krzyżową w wybranym modelu"
   ]
  },
  {
   "cell_type": "code",
   "execution_count": 62,
   "id": "d74b5bc5",
   "metadata": {},
   "outputs": [],
   "source": [
    "cv = KFold(n_splits=15, random_state=1, shuffle=True)\n",
    "scores_cv = pd.Series(cross_val_score(model, X_train_over, y_train_over, scoring='accuracy', cv=cv))"
   ]
  },
  {
   "cell_type": "code",
   "execution_count": 63,
   "id": "03dafd65",
   "metadata": {},
   "outputs": [
    {
     "data": {
      "text/plain": [
       "Text(0, 0.5, 'Dokładność (accuracy)')"
      ]
     },
     "execution_count": 63,
     "metadata": {},
     "output_type": "execute_result"
    },
    {
     "data": {
      "image/png": "[encoded data removed]",
      "text/plain": [
       "<Figure size 1000x500 with 1 Axes>"
      ]
     },
     "metadata": {},
     "output_type": "display_data"
    }
   ],
   "source": [
    "fig, ax = plt.subplots()\n",
    "sns.barplot(x=scores_cv.index, y=scores_cv)\n",
    "\n",
    "plt.title('Dokładność modelu dla sprawdzianu krzyżowego')\n",
    "plt.xlabel('Próba')\n",
    "plt.ylabel('Dokładność (accuracy)')"
   ]
  },
  {
   "cell_type": "markdown",
   "id": "c6591ee9",
   "metadata": {},
   "source": [
    "## Zastosuj grid search do znaleznienia optymalnych parametrów w wybranym modelu "
   ]
  },
  {
   "cell_type": "code",
   "execution_count": 64,
   "id": "c3fc6d61",
   "metadata": {},
   "outputs": [],
   "source": [
    "params = {'n_estimators': [25, 50, 75, 100, 125, 150],  \n",
    "              'learning_rate': [0.1, 0.2, 0.3, 0.4, 0.5, 0.6, 0.7, 0.8, 0.9, 1], \n",
    "              'algorithm':['SAMME', 'SAMME.R']}"
   ]
  },
  {
   "cell_type": "code",
   "execution_count": 65,
   "id": "6b2afe7f",
   "metadata": {},
   "outputs": [
    {
     "data": {
      "text/plain": [
       "{'algorithm': 'SAMME.R', 'learning_rate': 1, 'n_estimators': 125}"
      ]
     },
     "execution_count": 65,
     "metadata": {},
     "output_type": "execute_result"
    }
   ],
   "source": [
    "adaboost_model = AdaBoostClassifier()\n",
    "searcher = GridSearchCV(adaboost_model, params)\n",
    "searcher.fit(X_train_over, y_train_over)\n",
    "searcher.best_params_"
   ]
  },
  {
   "cell_type": "code",
   "execution_count": 66,
   "id": "c472c441",
   "metadata": {},
   "outputs": [
    {
     "name": "stdout",
     "output_type": "stream",
     "text": [
      "              precision    recall  f1-score   support\n",
      "\n",
      "           0       0.94      0.85      0.89       346\n",
      "           1       0.47      0.71      0.56        65\n",
      "\n",
      "    accuracy                           0.83       411\n",
      "   macro avg       0.70      0.78      0.73       411\n",
      "weighted avg       0.86      0.83      0.84       411\n",
      "\n"
     ]
    }
   ],
   "source": [
    "adaboost_model = AdaBoostClassifier(learning_rate = 0.8, n_estimators=150)\n",
    "adaboost_model.fit(X_train_over, y_train_over)\n",
    "ada_pred = adaboost_model.predict(X_test)\n",
    "print(classification_report(y_test, ada_pred))"
   ]
  },
  {
   "cell_type": "markdown",
   "id": "790998b8",
   "metadata": {},
   "source": [
    "## Wypisz wyniki"
   ]
  },
  {
   "cell_type": "code",
   "execution_count": 67,
   "id": "f37c7aab",
   "metadata": {},
   "outputs": [
    {
     "name": "stdout",
     "output_type": "stream",
     "text": [
      "              precision    recall  f1-score   support\n",
      "\n",
      "           0       0.95      0.83      0.89       346\n",
      "           1       0.46      0.77      0.58        65\n",
      "\n",
      "    accuracy                           0.82       411\n",
      "   macro avg       0.71      0.80      0.73       411\n",
      "weighted avg       0.87      0.82      0.84       411\n",
      "\n"
     ]
    }
   ],
   "source": [
    "#najlepszy wynik dla Regresji liniowej\n",
    "print(classification_report(y_test, y_pred_reg))"
   ]
  },
  {
   "cell_type": "markdown",
   "id": "4e09dbc5",
   "metadata": {},
   "source": [
    "## Narysuj/wyświetl confusion matrix "
   ]
  },
  {
   "cell_type": "code",
   "execution_count": 68,
   "id": "2afe8024",
   "metadata": {},
   "outputs": [
    {
     "data": {
      "text/plain": [
       "<AxesSubplot:>"
      ]
     },
     "execution_count": 68,
     "metadata": {},
     "output_type": "execute_result"
    },
    {
     "data": {
      "image/png": "[encoded data removed]",
      "text/plain": [
       "<Figure size 1000x500 with 2 Axes>"
      ]
     },
     "metadata": {},
     "output_type": "display_data"
    }
   ],
   "source": [
    "cm=confusion_matrix(y_test, y_pred_reg)\n",
    "sns.heatmap(cm, annot=True, fmt='d')"
   ]
  },
  {
   "cell_type": "markdown",
   "id": "7445f1ef",
   "metadata": {},
   "source": [
    "## Zapisz najlepszy model "
   ]
  },
  {
   "cell_type": "code",
   "execution_count": 69,
   "id": "b572d2d0",
   "metadata": {},
   "outputs": [
    {
     "data": {
      "text/plain": [
       "['regression_model.pkl']"
      ]
     },
     "execution_count": 69,
     "metadata": {},
     "output_type": "execute_result"
    }
   ],
   "source": [
    "filename2=\"regression_model.pkl\"\n",
    "joblib.dump(grad_model, filename2)"
   ]
  }
 ],
 "metadata": {
  "kernelspec": {
   "display_name": "Python 3 (ipykernel)",
   "language": "python",
   "name": "python3"
  },
  "language_info": {
   "codemirror_mode": {
    "name": "ipython",
    "version": 3
   },
   "file_extension": ".py",
   "mimetype": "text/x-python",
   "name": "python",
   "nbconvert_exporter": "python",
   "pygments_lexer": "ipython3",
   "version": "3.9.13"
  }
 },
 "nbformat": 4,
 "nbformat_minor": 5
}
